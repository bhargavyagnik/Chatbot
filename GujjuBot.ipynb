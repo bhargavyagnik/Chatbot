{
 "cells": [
  {
   "cell_type": "code",
   "execution_count": 1,
   "metadata": {},
   "outputs": [],
   "source": [
    "corpus=\"\"\"Gujarat has a land mass of 196024 Sq.km.\n",
    "The Governor of Gujarat is Acharya Devvrat.\n",
    "The famous Engineering colleges in Gujarat are DAIICT , NIT Surat , IIT Gandhinagar, Nirma College.\n",
    "Gandhiji was born in Porbandar,Gujarat.\n",
    "People natively speak Gujarati language in Gujarat.\n",
    "Gujarat is a state on the western coast of India.\n",
    "Gujarat has a coastline of 1600km\n",
    "The population of Gujarat is over 60 million people.\n",
    "The capital of Gujarat is Gandhinagar.\n",
    "The largest city of Gujarat is Ahmedabad.\n",
    "The Chief minister of Gujarat is Vijay Rupani.\n",
    "Makarsankranti, Navratri and janmashtami are some of the popular festivals of Gujarat.\n",
    "The Average Rainfall is around 93.2 cm.\n",
    "The Temperature in Gujarat ranges from 15 degrees to 45 degrees.\n",
    "The Ecosystem ranges from deserts, scrublands, grasslands, deciduous forests, and wetlands to mangroves, coral reefs, estuaries, and gulfs.\n",
    "There are Airports at Ahmedabad, Vadodra, Jamnagar, Porbandar,Surat, Rajkot, Bhuj, Bhavnagar.\n",
    "Festivals celebrated in Gujarat are Navratri, Diwali etc. \n",
    "The tarnetar fair and the pavagarh fair are well-known all over the country.\n",
    "The garba and dandiya raas are the popular dances of Gujarat. \n",
    "Khaman, Dhokla , Undhiyoo, Jalebi and gathiya are some of tasty and famous food items of Gujarat.\n",
    "Gujarat has many pilgrimage centers like dwarka, palitana and ambaji. \n",
    "Sasan Gir and nal sarovar are the famous wild life sanctuaries.\"\"\""
   ]
  },
  {
   "cell_type": "code",
   "execution_count": 2,
   "metadata": {},
   "outputs": [],
   "source": [
    "import nltk\n",
    "import wikipedia\n",
    "import numpy as np\n",
    "from nltk.corpus import stopwords\n",
    "from nltk.stem import WordNetLemmatizer\n",
    "import string\n",
    "from nltk.tokenize import WordPunctTokenizer\n",
    "from sklearn.feature_extraction.text import TfidfVectorizer\n"
   ]
  },
  {
   "cell_type": "code",
   "execution_count": 3,
   "metadata": {},
   "outputs": [],
   "source": [
    "ny=wikipedia.summary(\"Narendra Modi\")\n",
    "corpus=str(ny)"
   ]
  },
  {
   "cell_type": "code",
   "execution_count": 4,
   "metadata": {},
   "outputs": [],
   "source": [
    "def preprocessing(text):\n",
    "  text=text.lower()\n",
    "  lemmatizer = WordNetLemmatizer()\n",
    "  text_p=text.translate(str.maketrans('', '', string.punctuation))\n",
    "  STOPWORDS2REMOVE = set(stopwords.words('english'))\n",
    "  text_stop=\" \".join([text_p for text_p in str(text_p).split() if text_p not in STOPWORDS2REMOVE])\n",
    "  return \" \".join([lemmatizer.lemmatize(word) for word in text_stop.split()])"
   ]
  },
  {
   "cell_type": "code",
   "execution_count": 5,
   "metadata": {},
   "outputs": [
    {
     "data": {
      "text/plain": [
       "['Narendra Damodardas Modi (Gujarati pronunciation: [ˈnəɾendrə dɑmodəɾˈdɑs ˈmodiː]; born 17 September 1950) is an Indian politician serving as the 14th and current Prime Minister of India since 2014',\n",
       " ' He was the Chief Minister of Gujarat from 2001 to 2014, and is the Member of Parliament for Varanasi',\n",
       " ' Modi is a member of the Bharatiya Janata Party (BJP), and of the Rashtriya Swayamsevak Sangh (RSS), a Hindu nationalist volunteer organisation',\n",
       " ' He is the first prime minister outside of the Indian National Congress to win two consecutive terms with a full majority, and the second one to complete five years in office after Atal Bihari Vajpayee',\n",
       " 'Born to a Gujarati family in Vadnagar, Modi helped his father sell tea as a child, and has said he later ran his own stall',\n",
       " ' He was introduced to the RSS at the age of eight, beginning a long association with the organisation',\n",
       " ' Modi left home after finishing high-school in part due to an arranged marriage to Jashodaben Chimanlal, which he abandoned, and publicly acknowledged only many decades later',\n",
       " ' Modi travelled around India for two years and visited a number of religious centres before returning to Gujarat',\n",
       " ' In 1971 he became a full-time worker for the RSS',\n",
       " ' During the state of emergency imposed across the country in 1975, Modi was forced to go into hiding',\n",
       " ' The RSS assigned him to the BJP in 1985, and he held several positions within the party hierarchy until 2001, rising to the rank of general secretary',\n",
       " \"\\nModi was appointed Chief Minister of Gujarat in 2001, due to Keshubhai Patel's failing health and poor public image following the earthquake in Bhuj\",\n",
       " ' Modi was elected to the legislative assembly soon after',\n",
       " ' His administration has been considered complicit in the 2002 Gujarat riots, or otherwise criticised for its handling of it',\n",
       " ' A Supreme Court-appointed Special Investigation Team found no evidence to initiate prosecution proceedings against Modi personally',\n",
       " ' His policies as chief minister, credited with encouraging economic growth, have received praise',\n",
       " ' His administration has been criticised for failing to significantly improve health, poverty, and education indices in the state',\n",
       " 'Modi led the BJP in the 2014 general election, which gave the party a majority in the Indian lower house of parliament, the Lok Sabha, the first time for any single party since 1984',\n",
       " \" Modi's administration has tried to raise foreign direct investment in the Indian economy, and reduced spending on healthcare and social welfare programmes\",\n",
       " ' Modi has attempted to improve efficiency in the bureaucracy; he has centralised power by abolishing the Planning Commission',\n",
       " ' He began a high-profile sanitation campaign, and weakened or abolished environmental and labour laws',\n",
       " ' He initiated a controversial demonetisation of high-denomination banknotes',\n",
       " ' Described as engineering a political realignment towards right-wing politics, Modi remains a figure of controversy domestically and internationally over his Hindu nationalist beliefs and his role during the 2002 Gujarat riots, cited as evidence of an exclusionary social agenda',\n",
       " '']"
      ]
     },
     "execution_count": 5,
     "metadata": {},
     "output_type": "execute_result"
    }
   ],
   "source": [
    "sentence=corpus.split('.')\n",
    "sentence\n"
   ]
  },
  {
   "cell_type": "code",
   "execution_count": 6,
   "metadata": {},
   "outputs": [
    {
     "data": {
      "text/plain": [
       "['narendra damodardas modi gujarati pronunciation ˈnəɾendrə dɑmodəɾˈdɑs ˈmodiː born 17 september 1950 indian politician serving 14th current prime minister india since 2014',\n",
       " 'chief minister gujarat 2001 2014 member parliament varanasi',\n",
       " 'modi member bharatiya janata party bjp rashtriya swayamsevak sangh r hindu nationalist volunteer organisation',\n",
       " 'first prime minister outside indian national congress win two consecutive term full majority second one complete five year office atal bihari vajpayee',\n",
       " 'born gujarati family vadnagar modi helped father sell tea child said later ran stall',\n",
       " 'introduced r age eight beginning long association organisation',\n",
       " 'modi left home finishing highschool part due arranged marriage jashodaben chimanlal abandoned publicly acknowledged many decade later',\n",
       " 'modi travelled around india two year visited number religious centre returning gujarat',\n",
       " '1971 became fulltime worker r',\n",
       " 'state emergency imposed across country 1975 modi forced go hiding',\n",
       " 'r assigned bjp 1985 held several position within party hierarchy 2001 rising rank general secretary',\n",
       " 'modi appointed chief minister gujarat 2001 due keshubhai patels failing health poor public image following earthquake bhuj',\n",
       " 'modi elected legislative assembly soon',\n",
       " 'administration considered complicit 2002 gujarat riot otherwise criticised handling',\n",
       " 'supreme courtappointed special investigation team found evidence initiate prosecution proceeding modi personally',\n",
       " 'policy chief minister credited encouraging economic growth received praise',\n",
       " 'administration criticised failing significantly improve health poverty education index state',\n",
       " 'modi led bjp 2014 general election gave party majority indian lower house parliament lok sabha first time single party since 1984',\n",
       " 'modis administration tried raise foreign direct investment indian economy reduced spending healthcare social welfare programme',\n",
       " 'modi attempted improve efficiency bureaucracy centralised power abolishing planning commission',\n",
       " 'began highprofile sanitation campaign weakened abolished environmental labour law',\n",
       " 'initiated controversial demonetisation highdenomination banknote',\n",
       " 'described engineering political realignment towards rightwing politics modi remains figure controversy domestically internationally hindu nationalist belief role 2002 gujarat riot cited evidence exclusionary social agenda',\n",
       " '']"
      ]
     },
     "execution_count": 6,
     "metadata": {},
     "output_type": "execute_result"
    }
   ],
   "source": [
    "processed=[]\n",
    "for i in sentence:\n",
    "  processed.append(preprocessing(i))\n",
    "processed"
   ]
  },
  {
   "cell_type": "code",
   "execution_count": 7,
   "metadata": {},
   "outputs": [],
   "source": [
    "vectorizer=TfidfVectorizer()\n",
    "X=vectorizer.fit_transform(processed)"
   ]
  },
  {
   "cell_type": "code",
   "execution_count": 8,
   "metadata": {},
   "outputs": [],
   "source": [
    "def get_possible(STR,processed,sentence):\n",
    "    try:\n",
    "        prob_each=[]\n",
    "        for i in range(len(STR.split())):\n",
    "          prob_each_line=[]\n",
    "          for j in range(len(processed)):\n",
    "            prob_each_line.append(X[j, vectorizer.vocabulary_[STR.split()[i]]])\n",
    "          prob_each.append(prob_each_line)\n",
    "          #print(prob_each_line)\n",
    "        #prob_each\n",
    "        sume=np.zeros(len(processed))\n",
    "        for x in range(len(prob_each)):\n",
    "          sume=np.add(sume,prob_each[x])\n",
    "        max(sume)\n",
    "        pos=-1\n",
    "        for i in range(len(sume)):\n",
    "          if sume[i]==max(sume):\n",
    "             pos=i\n",
    "        print(sentence[pos])\n",
    "    except:\n",
    "        print(\"Sorry I dont know !\")"
   ]
  },
  {
   "cell_type": "code",
   "execution_count": null,
   "metadata": {},
   "outputs": [
    {
     "name": "stdout",
     "output_type": "stream",
     "text": [
      "Ask me fun things on Gujarat:Narendra Modi Age\n",
      " He was introduced to the RSS at the age of eight, beginning a long association with the organisation\n",
      "Ask me fun things on Gujarat:Narendra Modi Born on\n",
      "Narendra Damodardas Modi (Gujarati pronunciation: [ˈnəɾendrə dɑmodəɾˈdɑs ˈmodiː]; born 17 September 1950) is an Indian politician serving as the 14th and current Prime Minister of India since 2014\n"
     ]
    }
   ],
   "source": [
    "while True:\n",
    "  i=input(\"Ask me fun things on Gujarat:\")\n",
    "  if i.__eq__(\"Quit\") or i.__eq__(\"Bye\"):\n",
    "      print(\"BBye\")\n",
    "      break\n",
    "  get_possible(preprocessing(i),processed,sentence)"
   ]
  },
  {
   "cell_type": "code",
   "execution_count": null,
   "metadata": {},
   "outputs": [],
   "source": []
  }
 ],
 "metadata": {
  "kernelspec": {
   "display_name": "Python 3",
   "language": "python",
   "name": "python3"
  }
 },
 "nbformat": 4,
 "nbformat_minor": 2
}
